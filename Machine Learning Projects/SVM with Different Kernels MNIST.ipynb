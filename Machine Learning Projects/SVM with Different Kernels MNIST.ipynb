{
 "cells": [
  {
   "cell_type": "code",
   "execution_count": 12,
   "metadata": {
    "collapsed": false
   },
   "outputs": [],
   "source": [
    "# Installing all the necessary packages\n",
    "from sklearn.datasets import fetch_mldata\n",
    "import numpy as np\n",
    "import matplotlib.pyplot as plt\n",
    "%matplotlib inline\n",
    "import matplotlib\n",
    "from sklearn import svm\n",
    "from sklearn import metrics\n",
    "from sklearn.model_selection import train_test_split\n",
    "from sklearn.model_selection import GridSearchCV"
   ]
  },
  {
   "cell_type": "code",
   "execution_count": 4,
   "metadata": {
    "collapsed": false
   },
   "outputs": [
    {
     "name": "stdout",
     "output_type": "stream",
     "text": [
      "(70000, 784)\n",
      "[0. 1. 2. 3. 4. 5. 6. 7. 8. 9.]\n"
     ]
    }
   ],
   "source": [
    "# Loading the data\n",
    "mnist= fetch_mldata('MNIST original')\n",
    "print mnist.data.shape\n",
    "print np.unique(mnist.target)"
   ]
  },
  {
   "cell_type": "code",
   "execution_count": 5,
   "metadata": {
    "collapsed": false
   },
   "outputs": [
    {
     "name": "stdout",
     "output_type": "stream",
     "text": [
      "(13966, 784) (13966,)\n"
     ]
    }
   ],
   "source": [
    "# Extracting the images and their labels (3 and 8)\n",
    "n = len(mnist.data[(mnist.target == 3) | (mnist.target == 8)])\n",
    "images = mnist.data[(mnist.target == 3) \n",
    "                    | (mnist.target == 8)].reshape((n, -1))\n",
    "labels = mnist.target[(mnist.target == 3) | (mnist.target == 8)]\n",
    "print images.shape, labels.shape"
   ]
  },
  {
   "cell_type": "code",
   "execution_count": 6,
   "metadata": {
    "collapsed": false
   },
   "outputs": [
    {
     "data": {
      "image/png": "[encoded data removed]",
      "text/plain": [
       "<matplotlib.figure.Figure at 0x10945b110>"
      ]
     },
     "metadata": {},
     "output_type": "display_data"
    }
   ],
   "source": [
    "# Plotting some of the images from the dataset\n",
    "ROW = 2\n",
    "COLUMN = 3\n",
    "j = 1\n",
    "# Choose some random pictires and plot them\n",
    "for i in [1, 2700, 5000, 10000, 13000, 13950]:\n",
    "    # images[i] is the i-th image data with size 28x28\n",
    "    image = images[i].reshape(28, 28)\n",
    "    # Create subplots to plot the images in a more compact way\n",
    "    plt.subplot(ROW, COLUMN, j) \n",
    "    # cmap='gray' is for black and white pictures.\n",
    "    plt.imshow(image, cmap='gray')  \n",
    "    # labels[i] is the i-th digit label\n",
    "    plt.title('Label = {}'.format(labels[i]))\n",
    "    plt.axis('off')  # do not show axis value\n",
    "    j += 1\n",
    "plt.tight_layout()   # Automatic padding between subplots\n",
    "plt.show()"
   ]
  },
  {
   "cell_type": "code",
   "execution_count": 21,
   "metadata": {
    "collapsed": false
   },
   "outputs": [
    {
     "name": "stdout",
     "output_type": "stream",
     "text": [
      "\n",
      " Training time for the linear kernel:\n",
      "1 loop, best of 3: 22 s per loop\n",
      "\n",
      " Prediction time for the linear kernel:\n",
      "1 loop, best of 3: 472 ms per loop\n",
      "\n",
      " Test Accuracy: 0.940586972083\n",
      "\n",
      " Training time for the poly kernel:\n",
      "1 loop, best of 3: 3.45 s per loop\n",
      "\n",
      " Prediction time for the poly kernel:\n",
      "1 loop, best of 3: 794 ms per loop\n",
      "\n",
      " Test Accuracy: 0.989978525412\n",
      "\n",
      " Training time for the rbf kernel:\n",
      "1 loop, best of 3: 27.8 s per loop\n",
      "\n",
      " Prediction time for the rbf kernel:\n",
      "1 loop, best of 3: 6.33 s per loop\n",
      "\n",
      " Test Accuracy: 0.511095204009\n"
     ]
    }
   ],
   "source": [
    "X, X_test, y, y_test = train_test_split(images, labels, test_size=.2)\n",
    "\n",
    "# I initially tried to train the model on the entire dataset.\n",
    "# Unfortunately, it took way too long so I decided\n",
    "# to reduce the dataset to 50%.\n",
    "# The number of datapoints is still big enough,\n",
    "# and my computer can run it successfully.\n",
    "X_reduced = X[:int(0.5*len(X))]\n",
    "X_t_reduced = X_test[:int(0.5*len(X_test))]\n",
    "y_reduced = y[:int(0.5*len(y))]\n",
    "y_t_reduced = y_test[:int(0.5*len(y_test))]\n",
    "\n",
    "for kernel in ('linear', 'poly', 'rbf'):\n",
    "    clf = svm.SVC(kernel=kernel)\n",
    "    print \"\\n Training time for the {} kernel:\".format(kernel)\n",
    "    % timeit clf.fit(X_reduced, y_reduced)  \n",
    "    print \"\\n Prediction time for the {} kernel:\".format(kernel)\n",
    "    % timeit clf.predict(X_t_reduced)\n",
    "    print \"\\n Test Accuracy: {}\".format(clf.score\n",
    "                                    (X_t_reduced, y_t_reduced))"
   ]
  },
  {
   "cell_type": "markdown",
   "metadata": {},
   "source": [
    "In the cell above, I trained and predicted the label using different kernels: RBF, linear, and polynomial. The purpose of kernel functions is to return the inner product between two points in a suitable feature space by defining a notion of similarity, with the little computational cost even in very high-dimensional spaces. \n",
    "\n",
    "The linear kernel is the most intuitive of all functions as it doesn't map the data into higher dimensions. It managed to achieve a high level of precision (94%) which indicates that the data is linearly separable. It is also the fastest kernel out of all.\n",
    "\n",
    "The polynomial kernel represents the similarity of vectors (training samples) in a feature space over polynomials of the original variables, allowing learning of non-linear models. It performed a little bit better (98%) than the linear kernel and is also reasonably fast.\n",
    "\n",
    "The last kernel, RBF, is defined regarding the standard Euclidean norm of the input vector. It's been shown that the linear kernel is a degenerate version of RBF since it is never more accurate than a properly tuned RBF kernel. In the cell above, you can see that the RBF kernel performs significantly worse than both the linear and the polynomial kernel. It is an indicator that the kernel is not tuned properly. In the next cell, I will use the GridSearch function to search for appropriate parameters and potentially improve the performance of this kernel."
   ]
  },
  {
   "cell_type": "code",
   "execution_count": 20,
   "metadata": {
    "collapsed": false
   },
   "outputs": [
    {
     "name": "stdout",
     "output_type": "stream",
     "text": [
      "\n",
      " Training time for the rbf kernel:\n",
      "1 loop, best of 3: 54.9 s per loop\n",
      "\n",
      " Prediction time for the rbf kernel:\n",
      "1 loop, best of 3: 725 ms per loop\n",
      "\n",
      " Test Accuracy: 0.982078853047\n"
     ]
    }
   ],
   "source": [
    "clf = svm.SVC(kernel=\"rbf\")\n",
    "c_range = np.logspace(2,4,3)\n",
    "gamma_range = np.logspace(-8,-6,3)\n",
    "params = {\"C\":c_range, \"gamma\": gamma_range}\n",
    "grid_search = GridSearchCV(svc, params)\n",
    "\n",
    "print \"\\n Training time for the rbf kernel:\"\n",
    "% timeit grid_search.fit(X_reduced,y_reduced)\n",
    "print \"\\n Prediction time for the rbf kernel:\"\n",
    "% timeit grid_search.predict(X_reduced)\n",
    "print \"\\n Test Accuracy: {}\".format(grid_search.score\n",
    "                            (X_t_reduced, y_t_reduced))"
   ]
  },
  {
   "cell_type": "markdown",
   "metadata": {},
   "source": [
    "As you can see, the accuracy has significantly increased which illustrates that a properly tuned RBF kernel performs at least as good as the linear one. The only problem is that it requires much more time since the GridSearch function looks through all the combinations of parameters. In this concrete case, the performance of both the linear and polynomial kernel is good enough, so there is no need to train the RBF kernel. However, if the two datasets were not linearly separable, we would see a much higher difference in accuracy."
   ]
  }
 ],
 "metadata": {
  "kernelspec": {
   "display_name": "Python 2",
   "language": "python",
   "name": "python2"
  },
  "language_info": {
   "codemirror_mode": {
    "name": "ipython",
    "version": 2
   },
   "file_extension": ".py",
   "mimetype": "text/x-python",
   "name": "python",
   "nbconvert_exporter": "python",
   "pygments_lexer": "ipython2",
   "version": "2.7.12"
  }
 },
 "nbformat": 4,
 "nbformat_minor": 1
}
