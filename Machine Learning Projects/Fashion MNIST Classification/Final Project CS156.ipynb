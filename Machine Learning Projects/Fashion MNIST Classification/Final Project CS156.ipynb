{
 "cells": [
  {
   "cell_type": "code",
   "execution_count": 74,
   "metadata": {
    "collapsed": false
   },
   "outputs": [],
   "source": [
    "# Install all the necessary packages\n",
    "import numpy as np\n",
    "import pandas as pd\n",
    "import matplotlib\n",
    "import matplotlib.pyplot as plt\n",
    "%matplotlib inline\n",
    "from sklearn.model_selection import train_test_split\n",
    "from sklearn.ensemble import RandomForestClassifier\n",
    "from sklearn.metrics import classification_report\n",
    "from sklearn import metrics\n",
    "from sklearn import svm\n",
    "from sklearn.svm import LinearSVC\n",
    "import keras\n",
    "from keras.datasets import fashion_mnist \n",
    "from keras.models import Sequential,Input,Model\n",
    "from keras.layers import Dense, Dropout, Flatten\n",
    "from keras.layers import Conv2D, MaxPooling2D\n",
    "from keras.utils import to_categorical \n",
    "from keras.layers.normalization import BatchNormalization\n",
    "from keras.layers.advanced_activations import LeakyReLU, ELU"
   ]
  },
  {
   "cell_type": "code",
   "execution_count": 38,
   "metadata": {
    "collapsed": true
   },
   "outputs": [],
   "source": [
    "# Load the data\n",
    "(train_X,train_Y), (test_X,test_Y) = fashion_mnist.load_data()"
   ]
  },
  {
   "cell_type": "markdown",
   "metadata": {},
   "source": [
    "## Data Exploration"
   ]
  },
  {
   "cell_type": "code",
   "execution_count": 39,
   "metadata": {
    "collapsed": false
   },
   "outputs": [
    {
     "name": "stdout",
     "output_type": "stream",
     "text": [
      "Training set shape :  (60000, 28, 28) (60000,)\n",
      "Test set shape :  (10000, 28, 28) (10000,)\n",
      "Labels: [0 1 2 3 4 5 6 7 8 9]\n"
     ]
    }
   ],
   "source": [
    "print 'Training set shape : ', train_X.shape, train_Y.shape\n",
    "print 'Test set shape : ', test_X.shape, test_Y.shape\n",
    "names = np.unique(train_Y)\n",
    "print 'Labels:', names"
   ]
  },
  {
   "cell_type": "code",
   "execution_count": 40,
   "metadata": {
    "collapsed": false
   },
   "outputs": [],
   "source": [
    "# Dictionary that transforms digits into real labels\n",
    "labels = {0: \"T-shirt/top\", 1: \"Trouser\", 2: \"Pullover\",\n",
    "          3: \"Dress\", 4: \"Coat\", 5: \"Sandal\", 6: \"Shirt\",\n",
    "          7: \"Sneaker\", 8: \"Bag\", 9: \"Ankle boot\"}"
   ]
  },
  {
   "cell_type": "code",
   "execution_count": 41,
   "metadata": {
    "collapsed": false
   },
   "outputs": [
    {
     "data": {
      "image/png": "[encoded data removed]",
      "text/plain": [
       "<matplotlib.figure.Figure at 0x12f35a150>"
      ]
     },
     "metadata": {},
     "output_type": "display_data"
    }
   ],
   "source": [
    "# Explore some of the examples (1 from each category)\n",
    "plt.figure(figsize = [7,7])\n",
    "index = [0,8000,3000,7900,59,457,4,5,6]\n",
    "for i in range(1,10):\n",
    "    plt.subplot(3,3,i)\n",
    "    plt.axis(\"off\")\n",
    "    plt.imshow(train_X[index[i-1],:,:], cmap='gray')\n",
    "    plt.title(labels[train_Y[index[i-1]]])"
   ]
  },
  {
   "cell_type": "markdown",
   "metadata": {},
   "source": [
    "## Data Pre-Processing"
   ]
  },
  {
   "cell_type": "code",
   "execution_count": 42,
   "metadata": {
    "collapsed": false
   },
   "outputs": [],
   "source": [
    "# Reshape the images to feed them to the CNN later\n",
    "train_X = train_X.reshape(-1, 28,28, 1)\n",
    "test_X = test_X.reshape(-1, 28,28, 1)\n",
    "# Convert the data to float32 used by the network\n",
    "train_X = train_X.astype('float32')\n",
    "test_X = test_X.astype('float32')\n",
    "# Rescale the pixels values to 0-1\n",
    "train_X = train_X / 255.\n",
    "test_X = test_X / 255."
   ]
  },
  {
   "cell_type": "code",
   "execution_count": 43,
   "metadata": {
    "collapsed": false
   },
   "outputs": [],
   "source": [
    "# CNNs don't work with categorical variables\n",
    "# Therefore, we need dummies\n",
    "train_Y_dummy = to_categorical(train_Y)\n",
    "test_Y_dummy = to_categorical(test_Y)"
   ]
  },
  {
   "cell_type": "code",
   "execution_count": 44,
   "metadata": {
    "collapsed": false
   },
   "outputs": [
    {
     "data": {
      "text/plain": [
       "((48000, 28, 28, 1), (12000, 28, 28, 1), (48000, 10), (12000, 10))"
      ]
     },
     "execution_count": 44,
     "metadata": {},
     "output_type": "execute_result"
    }
   ],
   "source": [
    "# Split the training set to get a validation set\n",
    "train_X, valid_X, train_Y, valid_Y = train_test_split(train_X, train_Y_dummy, test_size=0.2)\n",
    "train_X.shape,valid_X.shape,train_Y.shape,valid_Y.shape"
   ]
  },
  {
   "cell_type": "markdown",
   "metadata": {},
   "source": [
    "## Model 1: Convolutional Neural Network"
   ]
  },
  {
   "cell_type": "code",
   "execution_count": 53,
   "metadata": {
    "collapsed": true
   },
   "outputs": [],
   "source": [
    "batch_size = 64\n",
    "epochs = 30\n",
    "classes = 10"
   ]
  },
  {
   "cell_type": "code",
   "execution_count": 50,
   "metadata": {
    "collapsed": false
   },
   "outputs": [],
   "source": [
    "# Create a model\n",
    "model = Sequential()\n",
    "# Convolutional layers apply a convolution operation to the input.\n",
    "model.add(Conv2D(64,(3, 3),activation='linear',input_shape=(28,28,1)))\n",
    "# Advanced activation layer\n",
    "model.add(LeakyReLU(alpha=0.1))\n",
    "# Pooling layers combine the outputs at one layer into a single neuron in the next layer.\n",
    "model.add(MaxPooling2D((2, 2)))\n",
    "# Drop some neurons to avoid overfitting\n",
    "model.add(Dropout(0.25))\n",
    "model.add(Conv2D(128, (3, 3), activation='linear'))\n",
    "model.add(ELU(alpha=0.1))\n",
    "model.add(MaxPooling2D((2, 2)))\n",
    "model.add(Dropout(0.25))\n",
    "model.add(Conv2D(256, (3, 3), activation='linear'))\n",
    "model.add(LeakyReLU(alpha=0.1))                  \n",
    "model.add(MaxPooling2D((2, 2)))\n",
    "model.add(Dropout(0.4))\n",
    "# Converting all the results into a single linear vector.\n",
    "model.add(Flatten())\n",
    "model.add(Dense(256, activation='linear'))\n",
    "model.add(ELU(alpha=0.1))           \n",
    "model.add(Dropout(0.3))\n",
    "# Classification lyer\n",
    "model.add(Dense(classes, activation='softmax'))"
   ]
  },
  {
   "cell_type": "code",
   "execution_count": 51,
   "metadata": {
    "collapsed": false
   },
   "outputs": [
    {
     "name": "stdout",
     "output_type": "stream",
     "text": [
      "_________________________________________________________________\n",
      "Layer (type)                 Output Shape              Param #   \n",
      "=================================================================\n",
      "conv2d_16 (Conv2D)           (None, 26, 26, 64)        640       \n",
      "_________________________________________________________________\n",
      "leaky_re_lu_9 (LeakyReLU)    (None, 26, 26, 64)        0         \n",
      "_________________________________________________________________\n",
      "max_pooling2d_13 (MaxPooling (None, 13, 13, 64)        0         \n",
      "_________________________________________________________________\n",
      "dropout_14 (Dropout)         (None, 13, 13, 64)        0         \n",
      "_________________________________________________________________\n",
      "conv2d_17 (Conv2D)           (None, 11, 11, 128)       73856     \n",
      "_________________________________________________________________\n",
      "elu_6 (ELU)                  (None, 11, 11, 128)       0         \n",
      "_________________________________________________________________\n",
      "max_pooling2d_14 (MaxPooling (None, 5, 5, 128)         0         \n",
      "_________________________________________________________________\n",
      "dropout_15 (Dropout)         (None, 5, 5, 128)         0         \n",
      "_________________________________________________________________\n",
      "conv2d_18 (Conv2D)           (None, 3, 3, 256)         295168    \n",
      "_________________________________________________________________\n",
      "leaky_re_lu_10 (LeakyReLU)   (None, 3, 3, 256)         0         \n",
      "_________________________________________________________________\n",
      "max_pooling2d_15 (MaxPooling (None, 1, 1, 256)         0         \n",
      "_________________________________________________________________\n",
      "dropout_16 (Dropout)         (None, 1, 1, 256)         0         \n",
      "_________________________________________________________________\n",
      "flatten_2 (Flatten)          (None, 256)               0         \n",
      "_________________________________________________________________\n",
      "dense_3 (Dense)              (None, 256)               65792     \n",
      "_________________________________________________________________\n",
      "elu_7 (ELU)                  (None, 256)               0         \n",
      "_________________________________________________________________\n",
      "dropout_17 (Dropout)         (None, 256)               0         \n",
      "_________________________________________________________________\n",
      "dense_4 (Dense)              (None, 10)                2570      \n",
      "=================================================================\n",
      "Total params: 438,026\n",
      "Trainable params: 438,026\n",
      "Non-trainable params: 0\n",
      "_________________________________________________________________\n"
     ]
    }
   ],
   "source": [
    "model.summary()"
   ]
  },
  {
   "cell_type": "code",
   "execution_count": 52,
   "metadata": {
    "collapsed": true
   },
   "outputs": [],
   "source": [
    "model.compile(loss=keras.losses.categorical_crossentropy, optimizer=keras.optimizers.Adam(),metrics=['accuracy'])"
   ]
  },
  {
   "cell_type": "code",
   "execution_count": 54,
   "metadata": {
    "collapsed": false
   },
   "outputs": [
    {
     "name": "stdout",
     "output_type": "stream",
     "text": [
      "Train on 48000 samples, validate on 12000 samples\n",
      "Epoch 1/30\n",
      "48000/48000 [==============================] - 363s 8ms/step - loss: 0.7482 - acc: 0.7187 - val_loss: 0.4816 - val_acc: 0.8261\n",
      "Epoch 2/30\n",
      "48000/48000 [==============================] - 504s 11ms/step - loss: 0.4961 - acc: 0.8180 - val_loss: 0.3967 - val_acc: 0.8588\n",
      "Epoch 3/30\n",
      "48000/48000 [==============================] - 458s 10ms/step - loss: 0.4312 - acc: 0.8434 - val_loss: 0.3618 - val_acc: 0.8685\n",
      "Epoch 4/30\n",
      "48000/48000 [==============================] - 407s 8ms/step - loss: 0.3938 - acc: 0.8571 - val_loss: 0.3299 - val_acc: 0.8810\n",
      "Epoch 5/30\n",
      "48000/48000 [==============================] - 364s 8ms/step - loss: 0.3735 - acc: 0.8627 - val_loss: 0.3228 - val_acc: 0.8852\n",
      "Epoch 6/30\n",
      "48000/48000 [==============================] - 358s 7ms/step - loss: 0.3493 - acc: 0.8708 - val_loss: 0.3094 - val_acc: 0.8868\n",
      "Epoch 7/30\n",
      "48000/48000 [==============================] - 340s 7ms/step - loss: 0.3351 - acc: 0.8769 - val_loss: 0.2998 - val_acc: 0.8898\n",
      "Epoch 8/30\n",
      "48000/48000 [==============================] - 253s 5ms/step - loss: 0.3225 - acc: 0.8794 - val_loss: 0.3118 - val_acc: 0.8895\n",
      "Epoch 9/30\n",
      "48000/48000 [==============================] - 252s 5ms/step - loss: 0.3153 - acc: 0.8826 - val_loss: 0.2866 - val_acc: 0.8952\n",
      "Epoch 10/30\n",
      "48000/48000 [==============================] - 252s 5ms/step - loss: 0.3025 - acc: 0.8885 - val_loss: 0.2874 - val_acc: 0.8939\n",
      "Epoch 11/30\n",
      "48000/48000 [==============================] - 253s 5ms/step - loss: 0.2962 - acc: 0.8907 - val_loss: 0.2831 - val_acc: 0.8954\n",
      "Epoch 12/30\n",
      "48000/48000 [==============================] - 264s 6ms/step - loss: 0.2899 - acc: 0.8921 - val_loss: 0.2865 - val_acc: 0.8931\n",
      "Epoch 13/30\n",
      "48000/48000 [==============================] - 297s 6ms/step - loss: 0.2847 - acc: 0.8951 - val_loss: 0.2945 - val_acc: 0.8947\n",
      "Epoch 14/30\n",
      "48000/48000 [==============================] - 273s 6ms/step - loss: 0.2777 - acc: 0.8970 - val_loss: 0.2808 - val_acc: 0.8959\n",
      "Epoch 15/30\n",
      "48000/48000 [==============================] - 255s 5ms/step - loss: 0.2727 - acc: 0.8974 - val_loss: 0.2859 - val_acc: 0.8939\n",
      "Epoch 16/30\n",
      "48000/48000 [==============================] - 255s 5ms/step - loss: 0.2704 - acc: 0.8976 - val_loss: 0.2740 - val_acc: 0.8997\n",
      "Epoch 17/30\n",
      "48000/48000 [==============================] - 257s 5ms/step - loss: 0.2644 - acc: 0.9009 - val_loss: 0.2703 - val_acc: 0.9030\n",
      "Epoch 18/30\n",
      "48000/48000 [==============================] - 255s 5ms/step - loss: 0.2609 - acc: 0.9036 - val_loss: 0.2770 - val_acc: 0.9024\n",
      "Epoch 19/30\n",
      "48000/48000 [==============================] - 255s 5ms/step - loss: 0.2546 - acc: 0.9036 - val_loss: 0.2782 - val_acc: 0.9031\n",
      "Epoch 20/30\n",
      "48000/48000 [==============================] - 256s 5ms/step - loss: 0.2539 - acc: 0.9058 - val_loss: 0.2898 - val_acc: 0.8960\n",
      "Epoch 21/30\n",
      "48000/48000 [==============================] - 257s 5ms/step - loss: 0.2497 - acc: 0.9073 - val_loss: 0.2748 - val_acc: 0.9046\n",
      "Epoch 22/30\n",
      "48000/48000 [==============================] - 252s 5ms/step - loss: 0.2477 - acc: 0.9061 - val_loss: 0.2702 - val_acc: 0.9051\n",
      "Epoch 23/30\n",
      "48000/48000 [==============================] - 252s 5ms/step - loss: 0.2428 - acc: 0.9094 - val_loss: 0.2869 - val_acc: 0.9010\n",
      "Epoch 24/30\n",
      "48000/48000 [==============================] - 253s 5ms/step - loss: 0.2422 - acc: 0.9093 - val_loss: 0.2640 - val_acc: 0.9045\n",
      "Epoch 25/30\n",
      "48000/48000 [==============================] - 253s 5ms/step - loss: 0.2370 - acc: 0.9109 - val_loss: 0.2695 - val_acc: 0.9085\n",
      "Epoch 26/30\n",
      "48000/48000 [==============================] - 254s 5ms/step - loss: 0.2336 - acc: 0.9135 - val_loss: 0.2677 - val_acc: 0.9076\n",
      "Epoch 27/30\n",
      "48000/48000 [==============================] - 253s 5ms/step - loss: 0.2267 - acc: 0.9140 - val_loss: 0.2887 - val_acc: 0.8990\n",
      "Epoch 28/30\n",
      "48000/48000 [==============================] - 253s 5ms/step - loss: 0.2383 - acc: 0.9117 - val_loss: 0.2670 - val_acc: 0.9062\n",
      "Epoch 29/30\n",
      "48000/48000 [==============================] - 252s 5ms/step - loss: 0.2290 - acc: 0.9134 - val_loss: 0.2735 - val_acc: 0.9052\n",
      "Epoch 30/30\n",
      "48000/48000 [==============================] - 253s 5ms/step - loss: 0.2291 - acc: 0.9140 - val_loss: 0.2686 - val_acc: 0.9067\n"
     ]
    }
   ],
   "source": [
    "train_model = model.fit(train_X, train_Y, batch_size=batch_size,epochs=epochs,verbose=1,validation_data=(valid_X, valid_Y))"
   ]
  },
  {
   "cell_type": "code",
   "execution_count": 55,
   "metadata": {
    "collapsed": true
   },
   "outputs": [],
   "source": [
    "model.save(\"model.h5py\")"
   ]
  },
  {
   "cell_type": "code",
   "execution_count": 56,
   "metadata": {
    "collapsed": false
   },
   "outputs": [
    {
     "name": "stdout",
     "output_type": "stream",
     "text": [
      "10000/10000 [==============================] - 11s 1ms/step\n",
      "Test loss: 0.28907238229513166\n",
      "Test accuracy: 0.8997\n"
     ]
    }
   ],
   "source": [
    "evaluation = model.evaluate(test_X, test_Y_dummy, verbose=1)\n",
    "print 'Test loss:', evaluation[0]\n",
    "print'Test accuracy:', evaluation[1]"
   ]
  },
  {
   "cell_type": "code",
   "execution_count": 57,
   "metadata": {
    "collapsed": false
   },
   "outputs": [
    {
     "data": {
      "image/png": "[encoded data removed]",
      "text/plain": [
       "<matplotlib.figure.Figure at 0x168f73210>"
      ]
     },
     "metadata": {},
     "output_type": "display_data"
    }
   ],
   "source": [
    "matplotlib.style.use('seaborn-whitegrid')\n",
    "acc = train_model.history['acc']\n",
    "val_acc = train_model.history['val_acc']\n",
    "loss = train_model.history['loss']\n",
    "val_loss = train_model.history['val_loss']\n",
    "epochs = range(len(acc))\n",
    "\n",
    "plt.figure(figsize = [15,5])\n",
    "plt.subplot(1,2,1)\n",
    "plt.plot(epochs, acc, 'b', label='Training Accuracy')\n",
    "plt.plot(epochs, val_acc, 'b', c = \"r\", label='Validation Accuracy')\n",
    "plt.title('Training and Validation Accuracy')\n",
    "plt.legend()\n",
    "plt.subplot(1,2,2)\n",
    "plt.plot(epochs, loss, 'b', label='Training loss')\n",
    "plt.plot(epochs, val_loss, 'b', c = \"r\",label='Validation loss')\n",
    "plt.title('Training and Validation Loss')\n",
    "plt.legend()\n",
    "plt.show()"
   ]
  },
  {
   "cell_type": "code",
   "execution_count": 58,
   "metadata": {
    "collapsed": true
   },
   "outputs": [],
   "source": [
    "# Predict the labels of the test set\n",
    "predict = np.argmax(np.round(model.predict(test_X)),axis=1)"
   ]
  },
  {
   "cell_type": "code",
   "execution_count": 59,
   "metadata": {
    "collapsed": false
   },
   "outputs": [
    {
     "name": "stdout",
     "output_type": "stream",
     "text": [
      "Found 8904 correct labels.\n",
      "Found 1096 incorrect labels.\n"
     ]
    },
    {
     "data": {
      "image/png": "[encoded data removed]",
      "text/plain": [
       "<matplotlib.figure.Figure at 0x1687c2290>"
      ]
     },
     "metadata": {},
     "output_type": "display_data"
    }
   ],
   "source": [
    "# Have a look at incorrectly identified items\n",
    "correct = np.where(predict==test_Y)[0]\n",
    "incorrect = np.where(predict!=test_Y)[0]\n",
    "print \"Found %d correct labels.\" % len(correct)\n",
    "print \"Found %d incorrect labels.\" % len(incorrect)\n",
    "matplotlib.style.use(\"seaborn-dark\")\n",
    "plt.figure(figsize = [7,7])\n",
    "for i, incorrect in enumerate(incorrect[:9]):\n",
    "    plt.subplot(3,3,i+1)\n",
    "    plt.axis(\"off\")\n",
    "    plt.imshow(test_X[incorrect].reshape(28,28), cmap='gray', interpolation='none')\n",
    "    #plt.title(\"Predicted {}, Class {}\".format(predict[incorrect], test_Y[incorrect]))\n",
    "    plt.title(\"{} vs. {}\".format(labels[predict[incorrect]], labels[test_Y[incorrect]]))"
   ]
  },
  {
   "cell_type": "code",
   "execution_count": 61,
   "metadata": {
    "collapsed": false
   },
   "outputs": [
    {
     "name": "stdout",
     "output_type": "stream",
     "text": [
      "                    precision    recall  f1-score   support\n",
      "\n",
      "Class: T-shirt/top       0.69      0.85      0.76      1000\n",
      "    Class: Trouser       0.98      0.98      0.98      1000\n",
      "   Class: Pullover       0.90      0.78      0.84      1000\n",
      "      Class: Dress       0.92      0.89      0.91      1000\n",
      "       Class: Coat       0.85      0.83      0.84      1000\n",
      "     Class: Sandal       0.98      0.97      0.98      1000\n",
      "      Class: Shirt       0.72      0.70      0.71      1000\n",
      "    Class: Sneaker       0.96      0.96      0.96      1000\n",
      "        Class: Bag       0.98      0.97      0.98      1000\n",
      " Class: Ankle boot       0.95      0.97      0.96      1000\n",
      "\n",
      "       avg / total       0.90      0.89      0.89     10000\n",
      "\n"
     ]
    }
   ],
   "source": [
    "target_names = [\"Class: {}\".format(labels[i]) for i in range(10)]\n",
    "print(classification_report(test_Y, predict, target_names=target_names))"
   ]
  },
  {
   "cell_type": "markdown",
   "metadata": {},
   "source": [
    "## Model 2: Random Forest"
   ]
  },
  {
   "cell_type": "code",
   "execution_count": 70,
   "metadata": {
    "collapsed": true
   },
   "outputs": [],
   "source": [
    "rfc = RandomForestClassifier(n_jobs=-1, n_estimators=100, bootstrap = True, max_depth = 80, max_features = 3, \n",
    "                             min_samples_leaf= 5, min_samples_split = 12)"
   ]
  },
  {
   "cell_type": "code",
   "execution_count": 65,
   "metadata": {
    "collapsed": false
   },
   "outputs": [],
   "source": [
    "(train_X,train_Y), (test_X,test_Y) = fashion_mnist.load_data()"
   ]
  },
  {
   "cell_type": "code",
   "execution_count": 66,
   "metadata": {
    "collapsed": false
   },
   "outputs": [],
   "source": [
    "# Data pre-processing (n_samples, n_features)\n",
    "train_Y = train_Y.reshape(60000, -1)\n",
    "train_X = train_X.reshape(60000, -1)\n",
    "test_Y = test_Y.reshape(10000, -1)\n",
    "test_X = test_X.reshape(10000, -1)"
   ]
  },
  {
   "cell_type": "code",
   "execution_count": 71,
   "metadata": {
    "collapsed": false
   },
   "outputs": [
    {
     "data": {
      "text/plain": [
       "RandomForestClassifier(bootstrap=True, class_weight=None, criterion='gini',\n",
       "            max_depth=None, max_features='auto', max_leaf_nodes=None,\n",
       "            min_impurity_decrease=0.0, min_impurity_split=None,\n",
       "            min_samples_leaf=1, min_samples_split=2,\n",
       "            min_weight_fraction_leaf=0.0, n_estimators=100, n_jobs=-1,\n",
       "            oob_score=False, random_state=None, verbose=0,\n",
       "            warm_start=False)"
      ]
     },
     "execution_count": 71,
     "metadata": {},
     "output_type": "execute_result"
    }
   ],
   "source": [
    "# Train Random Forest\n",
    "rfc.fit(train_X, train_Y.ravel())"
   ]
  },
  {
   "cell_type": "code",
   "execution_count": 68,
   "metadata": {
    "collapsed": false
   },
   "outputs": [
    {
     "name": "stdout",
     "output_type": "stream",
     "text": [
      "Accuracy: 0.879000\n",
      "Classification report for classifier RandomForestClassifier(bootstrap=True, class_weight=None, criterion='gini',\n",
      "            max_depth=None, max_features='auto', max_leaf_nodes=None,\n",
      "            min_impurity_decrease=0.0, min_impurity_split=None,\n",
      "            min_samples_leaf=1, min_samples_split=2,\n",
      "            min_weight_fraction_leaf=0.0, n_estimators=1000, n_jobs=-1,\n",
      "            oob_score=False, random_state=None, verbose=0,\n",
      "            warm_start=False):\n",
      "             precision    recall  f1-score   support\n",
      "\n",
      "          0       0.83      0.86      0.84      1000\n",
      "          1       0.99      0.96      0.98      1000\n",
      "          2       0.77      0.80      0.79      1000\n",
      "          3       0.88      0.91      0.89      1000\n",
      "          4       0.78      0.83      0.80      1000\n",
      "          5       0.98      0.96      0.97      1000\n",
      "          6       0.72      0.60      0.66      1000\n",
      "          7       0.93      0.95      0.94      1000\n",
      "          8       0.96      0.97      0.97      1000\n",
      "          9       0.95      0.95      0.95      1000\n",
      "\n",
      "avg / total       0.88      0.88      0.88     10000\n",
      "\n",
      "\n",
      "Confusion matrix:\n",
      "[[857   0  10  31   3   1  85   0  13   0]\n",
      " [  2 962   3  23   3   0   5   0   2   0]\n",
      " [ 12   0 801  10 118   0  55   0   4   0]\n",
      " [ 18   2   6 912  27   0  33   0   2   0]\n",
      " [  1   0  91  33 826   0  47   0   2   0]\n",
      " [  0   0   0   1   0 960   0  27   1  11]\n",
      " [147   1 123  28  83   0 600   0  18   0]\n",
      " [  0   0   0   0   0  10   0 952   0  38]\n",
      " [  1   2   4   2   5   2   6   3 974   1]\n",
      " [  0   0   0   0   0   8   1  43   2 946]]\n"
     ]
    }
   ],
   "source": [
    "rf_pred = rfc.predict(test_X)\n",
    "\n",
    "print(\"Accuracy: %f\" % metrics.accuracy_score(test_Y, rf_pred)) # The fraction of correct predictions\n",
    "print(\"Classification report for classifier %s:\\n%s\\n\"\n",
    "      % (rfc, metrics.classification_report(test_Y, rf_pred))) \n",
    "print(\"Confusion matrix:\\n%s\" % metrics.confusion_matrix(test_Y, rf_pred))"
   ]
  },
  {
   "cell_type": "code",
   "execution_count": 72,
   "metadata": {
    "collapsed": false
   },
   "outputs": [],
   "source": [
    "# Limit depth of tree to 3 levels\n",
    "rf_small = RandomForestClassifier(n_estimators=100, max_depth = 3)\n",
    "rf_small.fit(train_X, train_Y.ravel())\n",
    "# Extract the small tree\n",
    "tree_small = rf_small.estimators_[5]\n",
    "# Save the tree as a png image\n",
    "export_graphviz(tree_small, out_file = 'small_tree.dot', rounded = True, precision = 1)\n",
    "(graph, ) = pydot.graph_from_dot_file('small_tree.dot')\n",
    "graph.write_png('small_tree.png')"
   ]
  },
  {
   "cell_type": "markdown",
   "metadata": {},
   "source": [
    "## Model 3: SVM (benchmark model)"
   ]
  },
  {
   "cell_type": "code",
   "execution_count": 77,
   "metadata": {
    "collapsed": false
   },
   "outputs": [
    {
     "data": {
      "text/plain": [
       "LinearSVC(C=1.0, class_weight=None, dual=True, fit_intercept=True,\n",
       "     intercept_scaling=1, loss='squared_hinge', max_iter=1000,\n",
       "     multi_class='ovr', penalty='l2', random_state=0, tol=0.0001,\n",
       "     verbose=0)"
      ]
     },
     "execution_count": 77,
     "metadata": {},
     "output_type": "execute_result"
    }
   ],
   "source": [
    "clf = LinearSVC(random_state=0)\n",
    "# Building a linear SVC \n",
    "clf.fit(train_X, train_Y)"
   ]
  },
  {
   "cell_type": "code",
   "execution_count": 79,
   "metadata": {
    "collapsed": false
   },
   "outputs": [
    {
     "name": "stdout",
     "output_type": "stream",
     "text": [
      "Accuracy: 0.760000\n",
      "Classification report for classifier LinearSVC(C=1.0, class_weight=None, dual=True, fit_intercept=True,\n",
      "     intercept_scaling=1, loss='squared_hinge', max_iter=1000,\n",
      "     multi_class='ovr', penalty='l2', random_state=0, tol=0.0001,\n",
      "     verbose=0):\n",
      "             precision    recall  f1-score   support\n",
      "\n",
      "          0       0.81      0.72      0.76      1000\n",
      "          1       0.94      0.95      0.94      1000\n",
      "          2       0.82      0.38      0.51      1000\n",
      "          3       0.77      0.83      0.80      1000\n",
      "          4       0.68      0.63      0.66      1000\n",
      "          5       0.73      0.94      0.82      1000\n",
      "          6       0.41      0.71      0.52      1000\n",
      "          7       0.94      0.77      0.85      1000\n",
      "          8       0.93      0.84      0.89      1000\n",
      "          9       0.94      0.83      0.88      1000\n",
      "\n",
      "avg / total       0.80      0.76      0.76     10000\n",
      "\n",
      "\n",
      "Confusion matrix:\n",
      "[[720   8   5  61   8   0 181   0  16   1]\n",
      " [  7 953   2  25   4   0   6   1   2   0]\n",
      " [ 13   8 375  29 176   0 393   0   6   0]\n",
      " [ 36  35   5 826  34   0  58   1   4   1]\n",
      " [  1   3  29  53 632   0 276   0   6   0]\n",
      " [  1   3   0   0   1 937   8  19   7  24]\n",
      " [107   5  35  58  67   0 709   0  19   0]\n",
      " [  1   0   0   0   0 194   3 773   0  29]\n",
      " [  4   4   7  15   4  19  96   5 845   1]\n",
      " [  1   0   0   1   0 131  15  22   0 830]]\n"
     ]
    }
   ],
   "source": [
    "LinearSVC(C=1.0, class_weight=None, dual=True, fit_intercept=True,\n",
    "     intercept_scaling=1, loss='squared_hinge', max_iter=1000,\n",
    "     multi_class='ovr', penalty='l2', random_state=0, tol=0.0001,\n",
    "     verbose=0)\n",
    "# Predict on the original images\n",
    "pred = clf.predict(test_X)\n",
    "\n",
    "# Print performance metrics\n",
    "print(\"Accuracy: %f\" % metrics.accuracy_score(test_Y, pred))\n",
    "print(\"Classification report for classifier %s:\\n%s\\n\"\n",
    "      % (clf, metrics.classification_report(test_Y, pred)))\n",
    "print(\"Confusion matrix:\\n%s\" % metrics.confusion_matrix(test_Y, pred))"
   ]
  }
 ],
 "metadata": {
  "kernelspec": {
   "display_name": "Python 2",
   "language": "python",
   "name": "python2"
  },
  "language_info": {
   "codemirror_mode": {
    "name": "ipython",
    "version": 2
   },
   "file_extension": ".py",
   "mimetype": "text/x-python",
   "name": "python",
   "nbconvert_exporter": "python",
   "pygments_lexer": "ipython2",
   "version": "2.7.12"
  }
 },
 "nbformat": 4,
 "nbformat_minor": 2
}
