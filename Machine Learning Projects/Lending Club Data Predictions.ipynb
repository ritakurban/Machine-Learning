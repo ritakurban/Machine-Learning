{
 "cells": [
  {
   "cell_type": "code",
   "execution_count": 33,
   "metadata": {
    "collapsed": false
   },
   "outputs": [],
   "source": [
    "# Installing the packages.\n",
    "import pandas as pd\n",
    "import numpy as np\n",
    "from sklearn import preprocessing, model_selection, metrics\n",
    "from sklearn import linear_model\n",
    "from sklearn.ensemble import RandomForestClassifier\n",
    "\n",
    "# Loading the data. To speed up the process,\n",
    "# I decided to use only two CSV files.\n",
    "approve = pd.read_csv(\"LoanStats3a.csv\", skiprows=1, low_memory=False)\n",
    "reject = pd.read_csv(\"RejectStatsA.csv\", skiprows=1, low_memory = False)"
   ]
  },
  {
   "cell_type": "markdown",
   "metadata": {},
   "source": [
    "## Data Cleaning"
   ]
  },
  {
   "cell_type": "markdown",
   "metadata": {},
   "source": [
    "I manually examined the dataset and found some columns that appear in both \"approve\" and \"reject\" datasets:\n",
    "\n",
    "1. Amount Requested & loan_amnt\n",
    "\n",
    "2. Loan Title & purpose\n",
    "\n",
    "3. Debt-toi-Income Ratio & dti\n",
    "\n",
    "4. Zip Code & zip_code\n",
    "\n",
    "5. State & addr_state\n",
    "\n",
    "6. Employment Length & emp_length\n",
    "\n",
    "7. Policy Code & policy_code\n",
    "\n",
    "I subsetted these columns from the datasets and added a \"Status\" column that indicated whether the loan was rejected or approved for a given individual."
   ]
  },
  {
   "cell_type": "code",
   "execution_count": 12,
   "metadata": {
    "collapsed": false
   },
   "outputs": [],
   "source": [
    "# Subsetting columns that are present in both datasets\n",
    "approve_sub = approve.loc[:,[\"loan_amnt\", \"purpose\", \"dti\", \"zip_code\", \n",
    "                          \"addr_state\", \"emp_length\", \"policy_code\"]]\n",
    "\n",
    "reject_sub = reject.loc[:,[\"Amount Requested\", \"Loan Title\",\n",
    "                           \"Debt-To-Income Ratio\", \"Zip Code\", \n",
    "                        \"State\", \"Employment Length\", \"Policy Code\"]]\n",
    "\n",
    "# Adding a \"Status\" column that signifies whether the loan \n",
    "# was approved (1) or rejected (0)\n",
    "reject_sub[\"Status\"] = 0\n",
    "approve_sub[\"Status\"] = 1"
   ]
  },
  {
   "cell_type": "markdown",
   "metadata": {},
   "source": [
    "After that, I changed the names of the \"approve\" dataset to the ones used in \"reject\" and combined two datasets. I checked for NAs and realized there were not as many of them given the amount of data that we have. So I decided to drop the rows which have missing values."
   ]
  },
  {
   "cell_type": "code",
   "execution_count": 3,
   "metadata": {
    "collapsed": false
   },
   "outputs": [
    {
     "name": "stdout",
     "output_type": "stream",
     "text": [
      "Amount Requested         3\n",
      "Loan Title               9\n",
      "Debt-To-Income Ratio     3\n",
      "Zip Code                25\n",
      "State                   24\n",
      "Employment Length        3\n",
      "Policy Code              3\n",
      "Status                   0\n",
      "dtype: int64\n"
     ]
    }
   ],
   "source": [
    "# Changing the names\n",
    "approve_sub.columns = reject_sub.columns\n",
    "\n",
    "# Combine two datasets together\n",
    "data = pd.concat([approve_sub, reject_sub])\n",
    "data.reset_index(inplace=True, drop=True)\n",
    "\n",
    "# Check for NAs and drop them as they don't have much influence\n",
    "print data.isnull().sum()\n",
    "data.dropna(inplace=True)"
   ]
  },
  {
   "cell_type": "markdown",
   "metadata": {},
   "source": [
    "I have noticed that two columns, \"Zip Code\" and \"Debt-to-Income Ratio,\" can be transformed to integers. To do so, I decided to remove the \"xx\" from the codes and \"%\" from the ratios. I wrote two functions that perform these procedures and applied them to all the rows in the dataset so that the resulting values are integers."
   ]
  },
  {
   "cell_type": "code",
   "execution_count": 4,
   "metadata": {
    "collapsed": false
   },
   "outputs": [
    {
     "data": {
      "text/html": [
       "<div>\n",
       "<table border=\"1\" class=\"dataframe\">\n",
       "  <thead>\n",
       "    <tr style=\"text-align: right;\">\n",
       "      <th></th>\n",
       "      <th>Amount Requested</th>\n",
       "      <th>Loan Title</th>\n",
       "      <th>Debt-To-Income Ratio</th>\n",
       "      <th>Zip Code</th>\n",
       "      <th>State</th>\n",
       "      <th>Employment Length</th>\n",
       "      <th>Policy Code</th>\n",
       "      <th>Status</th>\n",
       "    </tr>\n",
       "  </thead>\n",
       "  <tbody>\n",
       "    <tr>\n",
       "      <th>0</th>\n",
       "      <td>5000.0</td>\n",
       "      <td>credit_card</td>\n",
       "      <td>27.65</td>\n",
       "      <td>860.0</td>\n",
       "      <td>AZ</td>\n",
       "      <td>10+ years</td>\n",
       "      <td>1.0</td>\n",
       "      <td>1</td>\n",
       "    </tr>\n",
       "    <tr>\n",
       "      <th>1</th>\n",
       "      <td>2500.0</td>\n",
       "      <td>car</td>\n",
       "      <td>1.00</td>\n",
       "      <td>309.0</td>\n",
       "      <td>GA</td>\n",
       "      <td>&lt; 1 year</td>\n",
       "      <td>1.0</td>\n",
       "      <td>1</td>\n",
       "    </tr>\n",
       "    <tr>\n",
       "      <th>2</th>\n",
       "      <td>2400.0</td>\n",
       "      <td>small_business</td>\n",
       "      <td>8.72</td>\n",
       "      <td>606.0</td>\n",
       "      <td>IL</td>\n",
       "      <td>10+ years</td>\n",
       "      <td>1.0</td>\n",
       "      <td>1</td>\n",
       "    </tr>\n",
       "    <tr>\n",
       "      <th>3</th>\n",
       "      <td>10000.0</td>\n",
       "      <td>other</td>\n",
       "      <td>20.00</td>\n",
       "      <td>917.0</td>\n",
       "      <td>CA</td>\n",
       "      <td>10+ years</td>\n",
       "      <td>1.0</td>\n",
       "      <td>1</td>\n",
       "    </tr>\n",
       "    <tr>\n",
       "      <th>4</th>\n",
       "      <td>3000.0</td>\n",
       "      <td>other</td>\n",
       "      <td>17.94</td>\n",
       "      <td>972.0</td>\n",
       "      <td>OR</td>\n",
       "      <td>1 year</td>\n",
       "      <td>1.0</td>\n",
       "      <td>1</td>\n",
       "    </tr>\n",
       "  </tbody>\n",
       "</table>\n",
       "</div>"
      ],
      "text/plain": [
       "   Amount Requested      Loan Title  Debt-To-Income Ratio  Zip Code State  \\\n",
       "0            5000.0     credit_card                 27.65     860.0    AZ   \n",
       "1            2500.0             car                  1.00     309.0    GA   \n",
       "2            2400.0  small_business                  8.72     606.0    IL   \n",
       "3           10000.0           other                 20.00     917.0    CA   \n",
       "4            3000.0           other                 17.94     972.0    OR   \n",
       "\n",
       "  Employment Length  Policy Code  Status  \n",
       "0         10+ years          1.0       1  \n",
       "1          < 1 year          1.0       1  \n",
       "2         10+ years          1.0       1  \n",
       "3         10+ years          1.0       1  \n",
       "4            1 year          1.0       1  "
      ]
     },
     "execution_count": 4,
     "metadata": {},
     "output_type": "execute_result"
    }
   ],
   "source": [
    "def remove_x(x):\n",
    "    \"\"\" Removes xx from the Zip Code column\"\"\"\n",
    "    try:\n",
    "        return float(x.strip(\"x\"))\n",
    "    except:\n",
    "        return float(x)\n",
    "    \n",
    "def remove_percent(x):\n",
    "    try:\n",
    "        return float(x.strip(\"%\"))\n",
    "    except:\n",
    "        return float(x)\n",
    "    \n",
    "data.loc[:,\"Zip Code\"] = data[\"Zip Code\"].apply(remove_x)\n",
    "data.loc[:,\"Debt-To-Income Ratio\"] = data\n",
    "        [\"Debt-To-Income Ratio\"].apply(remove_percent)\n",
    "data.head()    "
   ]
  },
  {
   "cell_type": "markdown",
   "metadata": {},
   "source": [
    "After that, I worked with the \"Employment Length\" column which included the years from 0 to 10. I first transformed NAs to \"less than 1 year\" and then wrote the encoder function that tuns all the years into integers (0 for < 1 year and 10 for 10+ years)."
   ]
  },
  {
   "cell_type": "code",
   "execution_count": 5,
   "metadata": {
    "collapsed": false
   },
   "outputs": [
    {
     "data": {
      "text/html": [
       "<div>\n",
       "<table border=\"1\" class=\"dataframe\">\n",
       "  <thead>\n",
       "    <tr style=\"text-align: right;\">\n",
       "      <th></th>\n",
       "      <th>Amount Requested</th>\n",
       "      <th>Loan Title</th>\n",
       "      <th>Debt-To-Income Ratio</th>\n",
       "      <th>Zip Code</th>\n",
       "      <th>State</th>\n",
       "      <th>Employment Length</th>\n",
       "      <th>Policy Code</th>\n",
       "      <th>Status</th>\n",
       "    </tr>\n",
       "  </thead>\n",
       "  <tbody>\n",
       "    <tr>\n",
       "      <th>0</th>\n",
       "      <td>5000.0</td>\n",
       "      <td>credit_card</td>\n",
       "      <td>27.65</td>\n",
       "      <td>860.0</td>\n",
       "      <td>AZ</td>\n",
       "      <td>1</td>\n",
       "      <td>1.0</td>\n",
       "      <td>1</td>\n",
       "    </tr>\n",
       "    <tr>\n",
       "      <th>1</th>\n",
       "      <td>2500.0</td>\n",
       "      <td>car</td>\n",
       "      <td>1.00</td>\n",
       "      <td>309.0</td>\n",
       "      <td>GA</td>\n",
       "      <td>10</td>\n",
       "      <td>1.0</td>\n",
       "      <td>1</td>\n",
       "    </tr>\n",
       "    <tr>\n",
       "      <th>2</th>\n",
       "      <td>2400.0</td>\n",
       "      <td>small_business</td>\n",
       "      <td>8.72</td>\n",
       "      <td>606.0</td>\n",
       "      <td>IL</td>\n",
       "      <td>1</td>\n",
       "      <td>1.0</td>\n",
       "      <td>1</td>\n",
       "    </tr>\n",
       "    <tr>\n",
       "      <th>3</th>\n",
       "      <td>10000.0</td>\n",
       "      <td>other</td>\n",
       "      <td>20.00</td>\n",
       "      <td>917.0</td>\n",
       "      <td>CA</td>\n",
       "      <td>1</td>\n",
       "      <td>1.0</td>\n",
       "      <td>1</td>\n",
       "    </tr>\n",
       "    <tr>\n",
       "      <th>4</th>\n",
       "      <td>3000.0</td>\n",
       "      <td>other</td>\n",
       "      <td>17.94</td>\n",
       "      <td>972.0</td>\n",
       "      <td>OR</td>\n",
       "      <td>0</td>\n",
       "      <td>1.0</td>\n",
       "      <td>1</td>\n",
       "    </tr>\n",
       "  </tbody>\n",
       "</table>\n",
       "</div>"
      ],
      "text/plain": [
       "   Amount Requested      Loan Title  Debt-To-Income Ratio  Zip Code State  \\\n",
       "0            5000.0     credit_card                 27.65     860.0    AZ   \n",
       "1            2500.0             car                  1.00     309.0    GA   \n",
       "2            2400.0  small_business                  8.72     606.0    IL   \n",
       "3           10000.0           other                 20.00     917.0    CA   \n",
       "4            3000.0           other                 17.94     972.0    OR   \n",
       "\n",
       "   Employment Length  Policy Code  Status  \n",
       "0                  1          1.0       1  \n",
       "1                 10          1.0       1  \n",
       "2                  1          1.0       1  \n",
       "3                  1          1.0       1  \n",
       "4                  0          1.0       1  "
      ]
     },
     "execution_count": 5,
     "metadata": {},
     "output_type": "execute_result"
    }
   ],
   "source": [
    "# Cleaning the Employment Length column\n",
    "\n",
    "# Group NAs with < 1\n",
    "data.loc[:, \"Employment Length\"] = data[\"Employment Length\"]\n",
    "                .replace(to_replace=[\"n/a\"], value=\"< 1 year\")\n",
    "\n",
    "def encoder(x):\n",
    "    \"\"\" Transform years into integers\"\"\"\n",
    "    if \"<\" in str(x):\n",
    "        print \"yes\"\n",
    "        return 0\n",
    "    elif \"10\" in str(x):\n",
    "        return 10\n",
    "    else:\n",
    "        return x\n",
    "    \n",
    "# Apply this function on the column\n",
    "years_encoder = preprocessing.LabelEncoder()\n",
    "data[\"Employment Length\"] = years_encoder\n",
    "                .fit_transform(data[\"Employment Length\"])\n",
    "data[\"Employment Length\"] = data[\"Employment Length\"].apply(encoder)\n",
    "data.head()"
   ]
  },
  {
   "cell_type": "markdown",
   "metadata": {},
   "source": [
    "I realized that \"Loan Title\" had way too many different categories. To reduce their number, I examined all of them and identified several prominent categories. I then grouped some of the values (e.g., all that had \"home\" or \"house\" to house_purchase) using the combine function. As a result, I got 12 different types of loans including \"other\" which included everything which couldn't be categorized by combine."
   ]
  },
  {
   "cell_type": "code",
   "execution_count": 6,
   "metadata": {
    "collapsed": false
   },
   "outputs": [
    {
     "data": {
      "text/plain": [
       "array(['credit_card', 'car', 'business', 'other', 'debt_consolidation',\n",
       "       'home_improvement', 'major_purchase', 'medical', 'moving',\n",
       "       'house_purchase', 'renewable_energy', 'vacation'], dtype=object)"
      ]
     },
     "execution_count": 6,
     "metadata": {},
     "output_type": "execute_result"
    }
   ],
   "source": [
    "# Cleaning the Loan Title column\n",
    "def combine(x):\n",
    "    \"\"\" Combine different loan types into a few most popular.\"\"\"\n",
    "    if \"credit\" in x.lower():\n",
    "        return \"credit_card\"\n",
    "    elif \"moving\" in x.lower():\n",
    "        return \"moving\"\n",
    "    elif \"car\" in x.lower():\n",
    "        return \"car\"\n",
    "    elif \"debt\" in x.lower():\n",
    "        return \"debt_consolidation\"\n",
    "    elif \"improv\" in x.lower():\n",
    "        return \"home_improvement\"\n",
    "    elif \"home\" in x.lower() or \"house\" in x.lower():\n",
    "        return \"house_purchase\"\n",
    "    elif \" vacation\" in x.lower():\n",
    "        return \"vacation\"\n",
    "    elif \"medical\" in x.lower():\n",
    "        return \"medical\"\n",
    "    elif \"business\" in x.lower():\n",
    "        return \"business\"\n",
    "    elif \"major\" in x.lower():\n",
    "        return \"major_purchase\"\n",
    "    elif \"energy\" in x.lower() or \"green\" in x.lower():\n",
    "        return \"renewable_energy\"\n",
    "    else:\n",
    "        return \"other\"\n",
    "\n",
    "data[\"Loan Title\"] = data[\"Loan Title\"].apply(combine)\n",
    "data[\"Loan Title\"].unique()"
   ]
  },
  {
   "cell_type": "markdown",
   "metadata": {},
   "source": [
    "After that, I decided to get rid of the categorical variables with the help of the one-hot encoding. I created dummy variables for the \"Loan Title\" and \"State,\" which was the final stage of my data cleaning. With this dataset at hands, I'm ready to build the model."
   ]
  },
  {
   "cell_type": "code",
   "execution_count": 7,
   "metadata": {
    "collapsed": false
   },
   "outputs": [
    {
     "data": {
      "text/html": [
       "<div>\n",
       "<table border=\"1\" class=\"dataframe\">\n",
       "  <thead>\n",
       "    <tr style=\"text-align: right;\">\n",
       "      <th></th>\n",
       "      <th>Amount Requested</th>\n",
       "      <th>Debt-To-Income Ratio</th>\n",
       "      <th>Zip Code</th>\n",
       "      <th>Employment Length</th>\n",
       "      <th>Policy Code</th>\n",
       "      <th>Status</th>\n",
       "      <th>Loan Title_car</th>\n",
       "      <th>Loan Title_credit_card</th>\n",
       "      <th>Loan Title_debt_consolidation</th>\n",
       "      <th>Loan Title_home_improvement</th>\n",
       "      <th>...</th>\n",
       "      <th>State_SD</th>\n",
       "      <th>State_TN</th>\n",
       "      <th>State_TX</th>\n",
       "      <th>State_UT</th>\n",
       "      <th>State_VA</th>\n",
       "      <th>State_VT</th>\n",
       "      <th>State_WA</th>\n",
       "      <th>State_WI</th>\n",
       "      <th>State_WV</th>\n",
       "      <th>State_WY</th>\n",
       "    </tr>\n",
       "  </thead>\n",
       "  <tbody>\n",
       "    <tr>\n",
       "      <th>0</th>\n",
       "      <td>5000.0</td>\n",
       "      <td>27.65</td>\n",
       "      <td>860.0</td>\n",
       "      <td>1</td>\n",
       "      <td>1.0</td>\n",
       "      <td>1</td>\n",
       "      <td>0</td>\n",
       "      <td>1</td>\n",
       "      <td>0</td>\n",
       "      <td>0</td>\n",
       "      <td>...</td>\n",
       "      <td>0</td>\n",
       "      <td>0</td>\n",
       "      <td>0</td>\n",
       "      <td>0</td>\n",
       "      <td>0</td>\n",
       "      <td>0</td>\n",
       "      <td>0</td>\n",
       "      <td>0</td>\n",
       "      <td>0</td>\n",
       "      <td>0</td>\n",
       "    </tr>\n",
       "    <tr>\n",
       "      <th>1</th>\n",
       "      <td>2500.0</td>\n",
       "      <td>1.00</td>\n",
       "      <td>309.0</td>\n",
       "      <td>10</td>\n",
       "      <td>1.0</td>\n",
       "      <td>1</td>\n",
       "      <td>1</td>\n",
       "      <td>0</td>\n",
       "      <td>0</td>\n",
       "      <td>0</td>\n",
       "      <td>...</td>\n",
       "      <td>0</td>\n",
       "      <td>0</td>\n",
       "      <td>0</td>\n",
       "      <td>0</td>\n",
       "      <td>0</td>\n",
       "      <td>0</td>\n",
       "      <td>0</td>\n",
       "      <td>0</td>\n",
       "      <td>0</td>\n",
       "      <td>0</td>\n",
       "    </tr>\n",
       "    <tr>\n",
       "      <th>2</th>\n",
       "      <td>2400.0</td>\n",
       "      <td>8.72</td>\n",
       "      <td>606.0</td>\n",
       "      <td>1</td>\n",
       "      <td>1.0</td>\n",
       "      <td>1</td>\n",
       "      <td>0</td>\n",
       "      <td>0</td>\n",
       "      <td>0</td>\n",
       "      <td>0</td>\n",
       "      <td>...</td>\n",
       "      <td>0</td>\n",
       "      <td>0</td>\n",
       "      <td>0</td>\n",
       "      <td>0</td>\n",
       "      <td>0</td>\n",
       "      <td>0</td>\n",
       "      <td>0</td>\n",
       "      <td>0</td>\n",
       "      <td>0</td>\n",
       "      <td>0</td>\n",
       "    </tr>\n",
       "    <tr>\n",
       "      <th>3</th>\n",
       "      <td>10000.0</td>\n",
       "      <td>20.00</td>\n",
       "      <td>917.0</td>\n",
       "      <td>1</td>\n",
       "      <td>1.0</td>\n",
       "      <td>1</td>\n",
       "      <td>0</td>\n",
       "      <td>0</td>\n",
       "      <td>0</td>\n",
       "      <td>0</td>\n",
       "      <td>...</td>\n",
       "      <td>0</td>\n",
       "      <td>0</td>\n",
       "      <td>0</td>\n",
       "      <td>0</td>\n",
       "      <td>0</td>\n",
       "      <td>0</td>\n",
       "      <td>0</td>\n",
       "      <td>0</td>\n",
       "      <td>0</td>\n",
       "      <td>0</td>\n",
       "    </tr>\n",
       "    <tr>\n",
       "      <th>4</th>\n",
       "      <td>3000.0</td>\n",
       "      <td>17.94</td>\n",
       "      <td>972.0</td>\n",
       "      <td>0</td>\n",
       "      <td>1.0</td>\n",
       "      <td>1</td>\n",
       "      <td>0</td>\n",
       "      <td>0</td>\n",
       "      <td>0</td>\n",
       "      <td>0</td>\n",
       "      <td>...</td>\n",
       "      <td>0</td>\n",
       "      <td>0</td>\n",
       "      <td>0</td>\n",
       "      <td>0</td>\n",
       "      <td>0</td>\n",
       "      <td>0</td>\n",
       "      <td>0</td>\n",
       "      <td>0</td>\n",
       "      <td>0</td>\n",
       "      <td>0</td>\n",
       "    </tr>\n",
       "  </tbody>\n",
       "</table>\n",
       "<p>5 rows × 67 columns</p>\n",
       "</div>"
      ],
      "text/plain": [
       "   Amount Requested  Debt-To-Income Ratio  Zip Code  Employment Length  \\\n",
       "0            5000.0                 27.65     860.0                  1   \n",
       "1            2500.0                  1.00     309.0                 10   \n",
       "2            2400.0                  8.72     606.0                  1   \n",
       "3           10000.0                 20.00     917.0                  1   \n",
       "4            3000.0                 17.94     972.0                  0   \n",
       "\n",
       "   Policy Code  Status  Loan Title_car  Loan Title_credit_card  \\\n",
       "0          1.0       1               0                       1   \n",
       "1          1.0       1               1                       0   \n",
       "2          1.0       1               0                       0   \n",
       "3          1.0       1               0                       0   \n",
       "4          1.0       1               0                       0   \n",
       "\n",
       "   Loan Title_debt_consolidation  Loan Title_home_improvement    ...     \\\n",
       "0                              0                            0    ...      \n",
       "1                              0                            0    ...      \n",
       "2                              0                            0    ...      \n",
       "3                              0                            0    ...      \n",
       "4                              0                            0    ...      \n",
       "\n",
       "   State_SD  State_TN  State_TX  State_UT  State_VA  State_VT  State_WA  \\\n",
       "0         0         0         0         0         0         0         0   \n",
       "1         0         0         0         0         0         0         0   \n",
       "2         0         0         0         0         0         0         0   \n",
       "3         0         0         0         0         0         0         0   \n",
       "4         0         0         0         0         0         0         0   \n",
       "\n",
       "   State_WI  State_WV  State_WY  \n",
       "0         0         0         0  \n",
       "1         0         0         0  \n",
       "2         0         0         0  \n",
       "3         0         0         0  \n",
       "4         0         0         0  \n",
       "\n",
       "[5 rows x 67 columns]"
      ]
     },
     "execution_count": 7,
     "metadata": {},
     "output_type": "execute_result"
    }
   ],
   "source": [
    "# Dummy variables for states and loan titles\n",
    "data = pd.get_dummies(data, \n",
    "            columns=[\"Loan Title\", \"State\"], drop_first = True)\n",
    "data.head()"
   ]
  },
  {
   "cell_type": "markdown",
   "metadata": {},
   "source": [
    "## Linear Model"
   ]
  },
  {
   "cell_type": "markdown",
   "metadata": {},
   "source": [
    "I decided to build a logistic regression model which is trained on one subset of the data and tested on the other.\n",
    "\n",
    "I first split the data into subsets and dropped \"Loan_Title_other\" as it is not a particular type of loan but an aggregate of all different types and \"Policy code\" as it is almost 100% correlated with the \"Status\" that the model aims to predict which can lead to misleading results and undermine the importance of other variables."
   ]
  },
  {
   "cell_type": "code",
   "execution_count": 8,
   "metadata": {
    "collapsed": false
   },
   "outputs": [],
   "source": [
    "# Split the data into test and training sets\n",
    "X = data[[i for i in data.columns if \"Status\" not in i]]\n",
    "y = data[\"Status\"]\n",
    "del X['Loan Title_other']\n",
    "del X['Policy Code']\n",
    "X_train, X_test, y_train, y_test = model_selection.train_test_split(X, y,\n",
    "                                            stratify=y, test_size=0.3)"
   ]
  },
  {
   "cell_type": "markdown",
   "metadata": {},
   "source": [
    "As the outcome is measured with a dichotomous variable (either approved or rejected), I decided to use logistic regression. \n",
    "\n",
    "To avoid overfitting, I used LogisticRegressionCV class that implements logistic regression using liblinear optimizer. The liblinear solver is a linear classifier for big datasets. It supports L1 regularization which is more robust compared to L2. \n",
    "\n",
    "Cross-validation evaluates how well a model performs in predicting the dependent variable on different subsets of the data. It partitions the data into k equally sized folds. One fold is held out for validation while the other k-1 folds are used to train the model. This process is repeated k times. The performance is tracked using the F1 scoring metric which is a weighted average of the precision and recall. This particular method uses stratified k-fold cross-validation by default. The folds are selected so that the mean response value is approximately equal in all the folds. In the case of a dichotomous classification, it means that each fold contains roughly the same proportions of the two types of class labels.\n",
    "\n",
    "After fitting the model, I predicted the outcome on the test set and evaluated the model's performance using different metrics.\n",
    "\n",
    "From the classification report, you can see that the model has high enough precision, recall, and f1 score. However, these numbers are tricky since the model doesn't perform well when it comes to classifying approved loans (20% precision). Confusion matrix also shows that the model is definitely biased towards \"rejected.\" One of the reasons for that is that I loaded much more data for rejected loans (755491 vs. 42535).\n",
    "\n",
    "Mutual information is a quantity that measures how much one random variable tells about another. It can be thought of as the reduction in uncertainty about one random variable given knowledge of another. Low mutual information that I got (0.038) indicates a small reduction in uncertainty."
   ]
  },
  {
   "cell_type": "code",
   "execution_count": 11,
   "metadata": {
    "collapsed": false
   },
   "outputs": [
    {
     "name": "stdout",
     "output_type": "stream",
     "text": [
      "             precision    recall  f1-score   support\n",
      "\n",
      "          0       0.98      0.83      0.90    226639\n",
      "          1       0.20      0.74      0.31     12761\n",
      "\n",
      "avg / total       0.94      0.82      0.87    239400\n",
      "\n",
      "Confusion matrix:\n",
      "[[188054  38585]\n",
      " [  3373   9388]]\n",
      "Mutual information:\n",
      "0.03819710982826479\n"
     ]
    },
    {
     "name": "stderr",
     "output_type": "stream",
     "text": [
      "/usr/local/lib/python2.7/site-packages/sklearn/linear_model/base.py:352: RuntimeWarning: overflow encountered in exp\n",
      "  np.exp(prob, prob)\n"
     ]
    },
    {
     "name": "stdout",
     "output_type": "stream",
     "text": [
      "('AUC:', 0.8425103442224837)\n"
     ]
    },
    {
     "data": {
      "image/png": "[encoded data removed]",
      "text/plain": [
       "<matplotlib.figure.Figure at 0x109647fd0>"
      ]
     },
     "metadata": {},
     "output_type": "display_data"
    }
   ],
   "source": [
    "logreg = linear_model.LogisticRegressionCV(penalty='l1',\n",
    "            class_weight='balanced', solver='liblinear',\n",
    "            Cs=[0.01, 0.001], refit=True, scoring='f1')\n",
    "\n",
    "logreg.fit(X_train, y_train)\n",
    "\n",
    "pred = logreg.predict(X_test)\n",
    "\n",
    "print metrics.classification_report(y_test, pred)\n",
    "print \"Confusion matrix:\\n%s\" % metrics.confusion_matrix(y_test, pred)\n",
    "\n",
    "print(\"Mutual information:\\n%s\" %metrics.mutual_info_score(y_test,\n",
    "                                            pred, contingency=None))\n",
    "pred_probs = logreg.predict_proba(X_test)[:,1]\n",
    "fpr, tpr, thresholds = metrics.roc_curve(y_test, pred_probs)\n",
    "\n",
    "import matplotlib.pyplot as plt\n",
    "% matplotlib inline\n",
    "plt.plot(fpr, tpr)\n",
    "plt.plot([0,1],[0,1])\n",
    "print(\"AUC:\", metrics.auc(fpr,tpr))"
   ]
  },
  {
   "cell_type": "markdown",
   "metadata": {},
   "source": [
    "## Random Forest"
   ]
  },
  {
   "cell_type": "markdown",
   "metadata": {},
   "source": [
    "After fitting the logistic model and identifying some of its disadvantages, I decided to create a different model using random forests. Even though I managed to improve the precision for an approved loan, the overall accuracy of the model hasn't increased much; the numbers are comparable to the output of logistic regression."
   ]
  },
  {
   "cell_type": "code",
   "execution_count": 10,
   "metadata": {
    "collapsed": false
   },
   "outputs": [
    {
     "name": "stdout",
     "output_type": "stream",
     "text": [
      "             precision    recall  f1-score   support\n",
      "\n",
      "          0       0.96      0.99      0.97    226639\n",
      "          1       0.53      0.25      0.34     12761\n",
      "\n",
      "avg / total       0.94      0.95      0.94    239400\n",
      "\n",
      "Confusion matrix:\n",
      "[[223734   2905]\n",
      " [  9507   3254]]\n",
      "Mutual information:\n",
      "0.024369549509573527\n",
      "('AUC:', 0.8469423030016174)\n"
     ]
    },
    {
     "data": {
      "image/png": "[encoded data removed]",
      "text/plain": [
       "<matplotlib.figure.Figure at 0x10bc8e110>"
      ]
     },
     "metadata": {},
     "output_type": "display_data"
    }
   ],
   "source": [
    "# Evaluate Random Forest Classifier\n",
    "rf = RandomForestClassifier(class_weight='balanced')\n",
    "\n",
    "rf.fit(X_train, y_train)\n",
    "\n",
    "prediction = rf.predict(X_test)\n",
    "\n",
    "print metrics.classification_report(y_test, prediction)\n",
    "print \"Confusion matrix:\\n%s\" % metrics.confusion_matrix(y_test,\n",
    "                                                    prediction)\n",
    "\n",
    "print(\"Mutual information:\\n%s\" %metrics.mutual_info_score(y_test,\n",
    "                                    prediction, contingency=None))\n",
    "prediction_probs = rf.predict_proba(X_test)[:,1]\n",
    "fpr, tpr, thresholds = metrics.roc_curve(y_test, prediction_probs)\n",
    "\n",
    "import matplotlib.pyplot as plt\n",
    "% matplotlib inline\n",
    "plt.plot(fpr, tpr)\n",
    "plt.plot([0,1],[0,1])\n",
    "print(\"AUC:\", metrics.auc(fpr,tpr))"
   ]
  },
  {
   "cell_type": "markdown",
   "metadata": {},
   "source": [
    "The initial task was to predict the largest loan amount that will be successfully funded for a given individual. To do so, I kept all the variables constant for one person and varied the amount of money requested until the model predicted it to be rejected (which is the cut-off point). As a result, I get the maximum loan amount possible and print it out. \n",
    "\n",
    "In some cases, this approximator outputs a zero. The reason for that is that some loan titles are very important predictors (people are very likely to get approval for a credit card and much less likely to get it for a house purchase), that's why it's almost impossible to get any loan for some of the titles."
   ]
  },
  {
   "cell_type": "code",
   "execution_count": 47,
   "metadata": {
    "collapsed": false
   },
   "outputs": [
    {
     "name": "stdout",
     "output_type": "stream",
     "text": [
      "The predicted largest loan amount is $83000.\n"
     ]
    }
   ],
   "source": [
    "# Choose a random individual from the dataset\n",
    "# by changing the row number.\n",
    "individual = X.iloc[0,:].copy()\n",
    "\n",
    "for i in range(1000, 100000, 1000):\n",
    "    individual[0] = i\n",
    "    prediction = logreg.predict([individual])\n",
    "    if prediction == 0:\n",
    "        print \"The predicted largest loan amount is $\" + str(i-1000) + \".\"\n",
    "        break\n"
   ]
  }
 ],
 "metadata": {
  "kernelspec": {
   "display_name": "Python 2",
   "language": "python",
   "name": "python2"
  },
  "language_info": {
   "codemirror_mode": {
    "name": "ipython",
    "version": 2
   },
   "file_extension": ".py",
   "mimetype": "text/x-python",
   "name": "python",
   "nbconvert_exporter": "python",
   "pygments_lexer": "ipython2",
   "version": "2.7.12"
  }
 },
 "nbformat": 4,
 "nbformat_minor": 1
}
